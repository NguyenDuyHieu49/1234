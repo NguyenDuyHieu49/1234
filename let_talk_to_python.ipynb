{
 "cells": [
  {
   "cell_type": "code",
   "execution_count": 1,
   "id": "06a0adea",
   "metadata": {},
   "outputs": [
    {
     "name": "stdout",
     "output_type": "stream",
     "text": [
      "so a: 8\n",
      "la so chan\n"
     ]
    }
   ],
   "source": [
    "a = int(input(\"so a: \"))\n",
    "if a%2 == 0:\n",
    "    print(\"la so chan\")\n",
    "else:\n",
    "    print(\"la so le\")"
   ]
  },
  {
   "cell_type": "code",
   "execution_count": 2,
   "id": "3ebffa67",
   "metadata": {},
   "outputs": [
    {
     "name": "stdout",
     "output_type": "stream",
     "text": [
      "8\n"
     ]
    }
   ],
   "source": [
    "a = 2*4\n",
    "print(a)"
   ]
  },
  {
   "cell_type": "code",
   "execution_count": 15,
   "id": "bb355874",
   "metadata": {},
   "outputs": [],
   "source": [
    "def hello_there():\n",
    "    print(\"Type your name:\")\n",
    "    name = input()\n",
    "    print(\"Hi\", name, \"how are you?\")"
   ]
  },
  {
   "cell_type": "code",
   "execution_count": 14,
   "id": "cdb4de7e",
   "metadata": {},
   "outputs": [
    {
     "name": "stdout",
     "output_type": "stream",
     "text": [
      "Type your name:\n",
      "Hieu\n",
      "Hi name how are you?\n"
     ]
    }
   ],
   "source": [
    "hello_there()"
   ]
  },
  {
   "cell_type": "code",
   "execution_count": 16,
   "id": "f6d08584",
   "metadata": {},
   "outputs": [
    {
     "name": "stdout",
     "output_type": "stream",
     "text": [
      "Type your name:\n",
      "hieu\n",
      "Hi hieu how are you?\n"
     ]
    }
   ],
   "source": [
    "hello_there()\n"
   ]
  },
  {
   "cell_type": "code",
   "execution_count": 18,
   "id": "0c81fe50",
   "metadata": {},
   "outputs": [
    {
     "name": "stdout",
     "output_type": "stream",
     "text": [
      "Hãy đoán 1 số từ 0 đến 10 7\n",
      "Vấn đề kĩ năng.\n"
     ]
    }
   ],
   "source": [
    "#Game1\n",
    "secret_number = 0\n",
    "guess = input(\"Hãy đoán 1 số từ 0 đến 10 \")\n",
    "if secret_number == guess:\n",
    "   print(\"Được lắm em zai.\")\n",
    "else:\n",
    "   print(\"Vấn đề kĩ năng.\")"
   ]
  },
  {
   "cell_type": "code",
   "execution_count": null,
   "id": "08eaff4e",
   "metadata": {},
   "outputs": [],
   "source": []
  }
 ],
 "metadata": {
  "kernelspec": {
   "display_name": "Python 3 (ipykernel)",
   "language": "python",
   "name": "python3"
  },
  "language_info": {
   "codemirror_mode": {
    "name": "ipython",
    "version": 3
   },
   "file_extension": ".py",
   "mimetype": "text/x-python",
   "name": "python",
   "nbconvert_exporter": "python",
   "pygments_lexer": "ipython3",
   "version": "3.9.7"
  }
 },
 "nbformat": 4,
 "nbformat_minor": 5
}
